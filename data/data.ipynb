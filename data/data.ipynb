{
 "cells": [
  {
   "cell_type": "code",
   "execution_count": 6,
   "metadata": {},
   "outputs": [],
   "source": [
    "# Loading-in our data!\n",
    "import torchvision\n",
    "\n",
    "\n",
    "# downloading 50k image net samples.\n",
    "data = torchvision.datasets.Imagenette(\n",
    "    root = \"imagenette_download\",\n",
    "    split = \"train\",\n",
    "    download=False\n",
    ")"
   ]
  },
  {
   "cell_type": "code",
   "execution_count": 7,
   "metadata": {},
   "outputs": [
    {
     "name": "stdout",
     "output_type": "stream",
     "text": [
      "Path exists, process skipped\n"
     ]
    }
   ],
   "source": [
    "# using our extractor.\n",
    "from dataloader import raw_images_convert\n",
    "raw_images_convert(data,'raw_images','jpeg') \n",
    "\n",
    "# now, we can delete the real images, but keep for now."
   ]
  },
  {
   "cell_type": "code",
   "execution_count": null,
   "metadata": {},
   "outputs": [],
   "source": [
    "# now, we need to create our latent-model\n",
    "from VAE import # LATENT-MODEL\n",
    "from make_latents import store_latents\n",
    "\n",
    "store_latents(data,'latent_storage',#LATENT_MODEL)"
   ]
  }
 ],
 "metadata": {
  "kernelspec": {
   "display_name": "manimtest",
   "language": "python",
   "name": "python3"
  },
  "language_info": {
   "codemirror_mode": {
    "name": "ipython",
    "version": 3
   },
   "file_extension": ".py",
   "mimetype": "text/x-python",
   "name": "python",
   "nbconvert_exporter": "python",
   "pygments_lexer": "ipython3",
   "version": "3.12.7"
  }
 },
 "nbformat": 4,
 "nbformat_minor": 2
}
