{
 "cells": [
  {
   "cell_type": "code",
   "execution_count": null,
   "metadata": {},
   "outputs": [],
   "source": [
    "# todo:\n",
    "'''\n",
    "- CFG, random-bad-init.\n",
    "'''"
   ]
  },
  {
   "cell_type": "markdown",
   "metadata": {},
   "source": [
    "# DiT-Architecture\n",
    "Explaining architectural choices of DiT.\n",
    "\n",
    "\n",
    "### ***Weight-Initialization***\n",
    "Weights are init'd in linear-layers with xavier init (when activation is linear, for stable gradients), and for the rest, we use the standard-kaiming init. Also, scaling attn. heads.\n",
    "\n",
    "### ***Class-conditioning***\n",
    "1. Both time-embedding and classes have one linear projection and then are added-together.\n",
    "2. This goes through a 1-layer MLP\n",
    "3. This is fed into each block which has a 2-layer MLP\n",
    "\n",
    "Xavier init, and SiLU activation functions used (empirically best?)."
   ]
  },
  {
   "cell_type": "code",
   "execution_count": null,
   "metadata": {},
   "outputs": [],
   "source": [
    "#patch-embed test\n",
    "import torch"
   ]
  }
 ],
 "metadata": {
  "kernelspec": {
   "display_name": "manimtest",
   "language": "python",
   "name": "python3"
  },
  "language_info": {
   "name": "python",
   "version": "3.12.7"
  }
 },
 "nbformat": 4,
 "nbformat_minor": 2
}
