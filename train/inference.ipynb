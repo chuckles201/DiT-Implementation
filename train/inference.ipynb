{
 "cells": [
  {
   "cell_type": "markdown",
   "metadata": {},
   "source": [
    "# Explaining Training and Inference\n",
    "\n",
    "\n",
    "### Objective\n",
    "So, we've trained a diffusion model to predict noise at an arbitrary timestep (which is really just a reformulation of predicting the denoising distribution). Since we've trained a model to acheive this objective, we can slowly build up images from pure noise, and rebuild the distribution gradually, because we have our training objective.\n",
    "\n",
    "Furthermore, the model should be able to understand images in the dataset, and even rebuild images.\n",
    "\n",
    "### ***Differences from paper***\n",
    "We do not predict the covariance in order to simplify the training."
   ]
  },
  {
   "cell_type": "markdown",
   "metadata": {},
   "source": [
    "# Model Representation Ability\n",
    "\n",
    "Our model utilizes transformer-blocks which utilzie self-attention to 'share' information in levels. We have twelve of these blocks (attn, ffwd, layer-norm) (can improve this?).\n",
    "### Training stability\n",
    "We utilize\n",
    "1. Residual connections: which allow gradient to flow, and us to gradually learn representations\n",
    "2. Layernorm, which allows us to control the batch-statistics\n"
   ]
  },
  {
   "cell_type": "code",
   "execution_count": 1,
   "metadata": {},
   "outputs": [],
   "source": [
    "# explain how attn/ model represn. works"
   ]
  },
  {
   "cell_type": "markdown",
   "metadata": {},
   "source": [
    "# Loading-Model"
   ]
  },
  {
   "cell_type": "code",
   "execution_count": 10,
   "metadata": {},
   "outputs": [
    {
     "ename": "ModuleNotFoundError",
     "evalue": "No module named 'DDIM'",
     "output_type": "error",
     "traceback": [
      "\u001b[1;31m---------------------------------------------------------------------------\u001b[0m",
      "\u001b[1;31mModuleNotFoundError\u001b[0m                       Traceback (most recent call last)",
      "Cell \u001b[1;32mIn[10], line 10\u001b[0m\n\u001b[0;32m      8\u001b[0m \u001b[38;5;28;01mimport\u001b[39;00m \u001b[38;5;21;01mdataloader\u001b[39;00m\n\u001b[0;32m      9\u001b[0m \u001b[38;5;28;01mimport\u001b[39;00m \u001b[38;5;21;01mget_vae\u001b[39;00m\n\u001b[1;32m---> 10\u001b[0m \u001b[38;5;28;01mimport\u001b[39;00m \u001b[38;5;21;01msampler\u001b[39;00m\u001b[38;5;241m,\u001b[39m\u001b[38;5;21;01mDDIM\u001b[39;00m\n\u001b[0;32m     11\u001b[0m dataset \u001b[38;5;241m=\u001b[39m dataloader\u001b[38;5;241m.\u001b[39mImageDataset(\u001b[38;5;28;01mNone\u001b[39;00m,\u001b[38;5;124m'\u001b[39m\u001b[38;5;124mraw_images\u001b[39m\u001b[38;5;124m'\u001b[39m,\n\u001b[0;32m     12\u001b[0m                                   label_folder\u001b[38;5;241m=\u001b[39m\u001b[38;5;124m'\u001b[39m\u001b[38;5;124m../data/label_folder\u001b[39m\u001b[38;5;124m'\u001b[39m,\n\u001b[0;32m     13\u001b[0m                                   im_extension\u001b[38;5;241m=\u001b[39m\u001b[38;5;124m'\u001b[39m\u001b[38;5;124mjpeg\u001b[39m\u001b[38;5;124m'\u001b[39m,\n\u001b[0;32m     14\u001b[0m                                   use_latents\u001b[38;5;241m=\u001b[39m\u001b[38;5;28;01mTrue\u001b[39;00m,\n\u001b[0;32m     15\u001b[0m                                   latent_folder\u001b[38;5;241m=\u001b[39m\u001b[38;5;124m'\u001b[39m\u001b[38;5;124m../data/latent_folder_sdxl\u001b[39m\u001b[38;5;124m'\u001b[39m,\n\u001b[0;32m     16\u001b[0m                                   device\u001b[38;5;241m=\u001b[39m\u001b[38;5;124m'\u001b[39m\u001b[38;5;124mcpu\u001b[39m\u001b[38;5;124m'\u001b[39m)\n\u001b[0;32m     17\u001b[0m full_vae, encoder \u001b[38;5;241m=\u001b[39m get_vae()\n",
      "\u001b[1;31mModuleNotFoundError\u001b[0m: No module named 'DDIM'"
     ]
    }
   ],
   "source": [
    "import huggingface_hub\n",
    "import torch\n",
    "import sys\n",
    "import os\n",
    "sys.path.append(os.path.abspath('../data'))\n",
    "sys.path.append(os.path.abspath('../VAE'))\n",
    "sys.path.append(os.path.abspath('../DDPM'))\n",
    "import dataloader\n",
    "import get_vae\n",
    "import sampler,DDIM\n",
    "dataset = dataloader.ImageDataset(None,'raw_images',\n",
    "                                  label_folder='../data/label_folder',\n",
    "                                  im_extension='jpeg',\n",
    "                                  use_latents=True,\n",
    "                                  latent_folder='../data/latent_folder_sdxl',\n",
    "                                  device='cpu')\n",
    "full_vae, encoder = get_vae()\n",
    "\n",
    "# diffusion-process\n",
    "\n"
   ]
  },
  {
   "cell_type": "markdown",
   "metadata": {},
   "source": [
    "# Tracking training-stats\n"
   ]
  }
 ],
 "metadata": {
  "kernelspec": {
   "display_name": "manimtest",
   "language": "python",
   "name": "python3"
  },
  "language_info": {
   "codemirror_mode": {
    "name": "ipython",
    "version": 3
   },
   "file_extension": ".py",
   "mimetype": "text/x-python",
   "name": "python",
   "nbconvert_exporter": "python",
   "pygments_lexer": "ipython3",
   "version": "3.12.7"
  }
 },
 "nbformat": 4,
 "nbformat_minor": 2
}
